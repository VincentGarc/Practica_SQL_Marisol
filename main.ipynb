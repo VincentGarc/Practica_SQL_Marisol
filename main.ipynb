{
 "cells": [
  {
   "cell_type": "code",
   "execution_count": 22,
   "outputs": [],
   "source": [
    "import pandas as pd\n",
    "import numpy as np\n",
    "import sqlalchemy as sa\n",
    "import matplotlib.pyplot as plt\n",
    "import sqlite3 as sql\n",
    "conn = sql.connect('archivos/incidencias.db')"
   ],
   "metadata": {
    "collapsed": false,
    "pycharm": {
     "name": "#%%\n"
    }
   }
  },
  {
   "cell_type": "code",
   "execution_count": null,
   "outputs": [],
   "source": [
    "df = pd.read_sql('SELECT * FROM registros ', sql.connect('archivos/incidencias.db'))\n",
    "df"
   ],
   "metadata": {
    "collapsed": false,
    "pycharm": {
     "name": "#%%\n",
     "is_executing": true
    }
   }
  },
  {
   "cell_type": "code",
   "execution_count": null,
   "outputs": [],
   "source": [
    "df = pd.read_sql(\"SELECT * FROM registros where fechaOc between '2017-01-01' and '2022-12-31' and servicio != 'CASETAS'\", conn)\n",
    "df"
   ],
   "metadata": {
    "collapsed": false,
    "pycharm": {
     "name": "#%%\n",
     "is_executing": true
    }
   }
  },
  {
   "cell_type": "code",
   "execution_count": null,
   "outputs": [],
   "source": [
    "df['importe'] = df['importe'].astype('float')\n",
    "df"
   ],
   "metadata": {
    "collapsed": false,
    "pycharm": {
     "name": "#%%\n",
     "is_executing": true
    }
   }
  },
  {
   "cell_type": "code",
   "execution_count": null,
   "outputs": [],
   "source": [
    "df[df.duplicated('titular',keep=False)]"
   ],
   "metadata": {
    "collapsed": false,
    "pycharm": {
     "name": "#%%\n",
     "is_executing": true
    }
   }
  },
  {
   "cell_type": "code",
   "execution_count": 46,
   "outputs": [],
   "source": [
    "telefono = df[df.duplicated(['telefono'], keep = False)]\n",
    "titular = df[df.duplicated(['titular'], keep = False)]\n",
    "noPoliza =df[df.duplicated(['noPoliza'], keep = False)]\n",
    "placa = df[df.duplicated(['placa'], keep = False)]\n",
    "final = pd.concat([telefono,titular,noPoliza,placa])\n",
    "\n",
    "with pd.ExcelWriter('duplicados.xlsx') as writer:\n",
    "    final.to_excel(writer, sheet_name = 'Duplicados', index = False)\n",
    "    telefono.to_excel(writer, sheet_name = 'Telefono', index = False)\n",
    "    titular.to_excel(writer, sheet_name = 'Titular', index = False)\n",
    "    noPoliza.to_excel(writer, sheet_name = 'NoPoliza', index = False)\n",
    "    placa.to_excel(writer, sheet_name = 'Placa', index = False)"
   ],
   "metadata": {
    "collapsed": false,
    "pycharm": {
     "name": "#%%\n"
    }
   }
  },
  {
   "cell_type": "code",
   "execution_count": 62,
   "outputs": [
    {
     "data": {
      "text/plain": "                   fechaOc            servicio   nombreCliente  \\\n565    2020-04-29 00:00:00                GRUA           GONER   \n748    2020-11-06 00:00:00        PAGO DIRECTO  GENERAL MOTORS   \n4038   2019-07-09 00:00:00        PAGO DIRECTO  GENERAL MOTORS   \n4489   2019-08-29 00:00:00        PAGO DIRECTO           MAZDA   \n14228  2018-07-31 00:00:00        PAGO DIRECTO   SEGUROS ATLAS   \n16043  2020-01-24 00:00:00                GRUA           GONER   \n22123  2018-05-05 00:00:00  URGENCIAS HOSPITAL   SEGUROS ATLAS   \n22187  2020-01-26 00:00:00                GRUA   SEGUROS ATLAS   \n24441  2021-05-19 00:00:00  URGENCIAS HOSPITAL  GENERAL MOTORS   \n25571  2018-11-27 00:00:00         COMBUSTIBLE   SEGUROS ATLAS   \n\n                titular       noPoliza   cabina                       origen  \\\n565        Russell Wolf  16470410 6679   RAMIRO              553-3973 In Ave   \n748       Belle Guthrie  24356737 0546    SUEMY            8797 Gravida. Av.   \n4038        Cole Stuart  22181281 1045    CESAR          742-9628 Fusce Road   \n4489          Eve Jones  29482437 4135    TANIA           501-415 Ipsum Road   \n14228     Pandora Gates  56172627 2942    EDGAR           774-6590 In Street   \n16043   Kenneth Mccarty  33609448 1982    TANIA    573-9469 Imperdiet Street   \n22123      Elvis Reilly  03476172 2636  MARISOL      548-6926 Quisque Street   \n22187  Kenneth Gonzalez  52905712 6312  MARISOL  P.O. Box 776, 7310 Non, St.   \n24441      Robert Lopez  04617575 4818    CESAR      Ap #970-4405 Aenean Rd.   \n25571       Raja Alston  39778354 5960    EDGAR           296-6538 A, Avenue   \n\n       importe      telefono    placa  \n565        NaN  552-341-7754  M7J 0D1  \n748        NaN  557-724-4451  V0G 6B5  \n4038       NaN  552-341-7754  Z1G 2X5  \n4489       NaN  559-505-0246  N1M 3K7  \n14228      NaN  555-365-2777  Q3W 2X3  \n16043      NaN  551-228-1681  I9C 6F9  \n22123      NaN  551-228-1681  S1Y 5N6  \n22187      NaN  559-505-0246  U1X 5V7  \n24441      NaN  557-724-4451  X6R 9X3  \n25571      NaN  555-365-2777  U9E 5E1  ",
      "text/html": "<div>\n<style scoped>\n    .dataframe tbody tr th:only-of-type {\n        vertical-align: middle;\n    }\n\n    .dataframe tbody tr th {\n        vertical-align: top;\n    }\n\n    .dataframe thead th {\n        text-align: right;\n    }\n</style>\n<table border=\"1\" class=\"dataframe\">\n  <thead>\n    <tr style=\"text-align: right;\">\n      <th></th>\n      <th>fechaOc</th>\n      <th>servicio</th>\n      <th>nombreCliente</th>\n      <th>titular</th>\n      <th>noPoliza</th>\n      <th>cabina</th>\n      <th>origen</th>\n      <th>importe</th>\n      <th>telefono</th>\n      <th>placa</th>\n    </tr>\n  </thead>\n  <tbody>\n    <tr>\n      <th>565</th>\n      <td>2020-04-29 00:00:00</td>\n      <td>GRUA</td>\n      <td>GONER</td>\n      <td>Russell Wolf</td>\n      <td>16470410 6679</td>\n      <td>RAMIRO</td>\n      <td>553-3973 In Ave</td>\n      <td>NaN</td>\n      <td>552-341-7754</td>\n      <td>M7J 0D1</td>\n    </tr>\n    <tr>\n      <th>748</th>\n      <td>2020-11-06 00:00:00</td>\n      <td>PAGO DIRECTO</td>\n      <td>GENERAL MOTORS</td>\n      <td>Belle Guthrie</td>\n      <td>24356737 0546</td>\n      <td>SUEMY</td>\n      <td>8797 Gravida. Av.</td>\n      <td>NaN</td>\n      <td>557-724-4451</td>\n      <td>V0G 6B5</td>\n    </tr>\n    <tr>\n      <th>4038</th>\n      <td>2019-07-09 00:00:00</td>\n      <td>PAGO DIRECTO</td>\n      <td>GENERAL MOTORS</td>\n      <td>Cole Stuart</td>\n      <td>22181281 1045</td>\n      <td>CESAR</td>\n      <td>742-9628 Fusce Road</td>\n      <td>NaN</td>\n      <td>552-341-7754</td>\n      <td>Z1G 2X5</td>\n    </tr>\n    <tr>\n      <th>4489</th>\n      <td>2019-08-29 00:00:00</td>\n      <td>PAGO DIRECTO</td>\n      <td>MAZDA</td>\n      <td>Eve Jones</td>\n      <td>29482437 4135</td>\n      <td>TANIA</td>\n      <td>501-415 Ipsum Road</td>\n      <td>NaN</td>\n      <td>559-505-0246</td>\n      <td>N1M 3K7</td>\n    </tr>\n    <tr>\n      <th>14228</th>\n      <td>2018-07-31 00:00:00</td>\n      <td>PAGO DIRECTO</td>\n      <td>SEGUROS ATLAS</td>\n      <td>Pandora Gates</td>\n      <td>56172627 2942</td>\n      <td>EDGAR</td>\n      <td>774-6590 In Street</td>\n      <td>NaN</td>\n      <td>555-365-2777</td>\n      <td>Q3W 2X3</td>\n    </tr>\n    <tr>\n      <th>16043</th>\n      <td>2020-01-24 00:00:00</td>\n      <td>GRUA</td>\n      <td>GONER</td>\n      <td>Kenneth Mccarty</td>\n      <td>33609448 1982</td>\n      <td>TANIA</td>\n      <td>573-9469 Imperdiet Street</td>\n      <td>NaN</td>\n      <td>551-228-1681</td>\n      <td>I9C 6F9</td>\n    </tr>\n    <tr>\n      <th>22123</th>\n      <td>2018-05-05 00:00:00</td>\n      <td>URGENCIAS HOSPITAL</td>\n      <td>SEGUROS ATLAS</td>\n      <td>Elvis Reilly</td>\n      <td>03476172 2636</td>\n      <td>MARISOL</td>\n      <td>548-6926 Quisque Street</td>\n      <td>NaN</td>\n      <td>551-228-1681</td>\n      <td>S1Y 5N6</td>\n    </tr>\n    <tr>\n      <th>22187</th>\n      <td>2020-01-26 00:00:00</td>\n      <td>GRUA</td>\n      <td>SEGUROS ATLAS</td>\n      <td>Kenneth Gonzalez</td>\n      <td>52905712 6312</td>\n      <td>MARISOL</td>\n      <td>P.O. Box 776, 7310 Non, St.</td>\n      <td>NaN</td>\n      <td>559-505-0246</td>\n      <td>U1X 5V7</td>\n    </tr>\n    <tr>\n      <th>24441</th>\n      <td>2021-05-19 00:00:00</td>\n      <td>URGENCIAS HOSPITAL</td>\n      <td>GENERAL MOTORS</td>\n      <td>Robert Lopez</td>\n      <td>04617575 4818</td>\n      <td>CESAR</td>\n      <td>Ap #970-4405 Aenean Rd.</td>\n      <td>NaN</td>\n      <td>557-724-4451</td>\n      <td>X6R 9X3</td>\n    </tr>\n    <tr>\n      <th>25571</th>\n      <td>2018-11-27 00:00:00</td>\n      <td>COMBUSTIBLE</td>\n      <td>SEGUROS ATLAS</td>\n      <td>Raja Alston</td>\n      <td>39778354 5960</td>\n      <td>EDGAR</td>\n      <td>296-6538 A, Avenue</td>\n      <td>NaN</td>\n      <td>555-365-2777</td>\n      <td>U9E 5E1</td>\n    </tr>\n  </tbody>\n</table>\n</div>"
     },
     "execution_count": 62,
     "metadata": {},
     "output_type": "execute_result"
    }
   ],
   "source": [
    "telefono"
   ],
   "metadata": {
    "collapsed": false,
    "pycharm": {
     "name": "#%%\n"
    }
   }
  },
  {
   "cell_type": "code",
   "execution_count": 67,
   "outputs": [
    {
     "data": {
      "text/plain": "         importe\nplaca           \nC3L 2D3  17048.0\nC6P 1O5  12300.0\nE1T 3N7  12489.0\nF2K 3Q4  12176.0\nF2S 4D0  12667.0\nG4K 4F2   5481.0\nG5O 7Q8   2501.0\nH7L 5T6   4484.0\nI3Z 8U4  11670.0\nI7H 3N1   8275.0\nL4K 3V8  10830.0\nL7F 3E8   6502.0\nM5B 1N1   9670.0\nN2I 3G7  11314.0\nN2P 1W3  12229.0\nO8N 3M1  11043.0\nR7K 9X0   4425.0\nS6W 2I7  12015.0\nU2R 3Q5  17575.0\nU3Y 6P9   3904.0\nV3M 3Y9  10426.0\nW2F 2O6   8411.0\nY8N 8K8   7822.0",
      "text/html": "<div>\n<style scoped>\n    .dataframe tbody tr th:only-of-type {\n        vertical-align: middle;\n    }\n\n    .dataframe tbody tr th {\n        vertical-align: top;\n    }\n\n    .dataframe thead th {\n        text-align: right;\n    }\n</style>\n<table border=\"1\" class=\"dataframe\">\n  <thead>\n    <tr style=\"text-align: right;\">\n      <th></th>\n      <th>importe</th>\n    </tr>\n    <tr>\n      <th>placa</th>\n      <th></th>\n    </tr>\n  </thead>\n  <tbody>\n    <tr>\n      <th>C3L 2D3</th>\n      <td>17048.0</td>\n    </tr>\n    <tr>\n      <th>C6P 1O5</th>\n      <td>12300.0</td>\n    </tr>\n    <tr>\n      <th>E1T 3N7</th>\n      <td>12489.0</td>\n    </tr>\n    <tr>\n      <th>F2K 3Q4</th>\n      <td>12176.0</td>\n    </tr>\n    <tr>\n      <th>F2S 4D0</th>\n      <td>12667.0</td>\n    </tr>\n    <tr>\n      <th>G4K 4F2</th>\n      <td>5481.0</td>\n    </tr>\n    <tr>\n      <th>G5O 7Q8</th>\n      <td>2501.0</td>\n    </tr>\n    <tr>\n      <th>H7L 5T6</th>\n      <td>4484.0</td>\n    </tr>\n    <tr>\n      <th>I3Z 8U4</th>\n      <td>11670.0</td>\n    </tr>\n    <tr>\n      <th>I7H 3N1</th>\n      <td>8275.0</td>\n    </tr>\n    <tr>\n      <th>L4K 3V8</th>\n      <td>10830.0</td>\n    </tr>\n    <tr>\n      <th>L7F 3E8</th>\n      <td>6502.0</td>\n    </tr>\n    <tr>\n      <th>M5B 1N1</th>\n      <td>9670.0</td>\n    </tr>\n    <tr>\n      <th>N2I 3G7</th>\n      <td>11314.0</td>\n    </tr>\n    <tr>\n      <th>N2P 1W3</th>\n      <td>12229.0</td>\n    </tr>\n    <tr>\n      <th>O8N 3M1</th>\n      <td>11043.0</td>\n    </tr>\n    <tr>\n      <th>R7K 9X0</th>\n      <td>4425.0</td>\n    </tr>\n    <tr>\n      <th>S6W 2I7</th>\n      <td>12015.0</td>\n    </tr>\n    <tr>\n      <th>U2R 3Q5</th>\n      <td>17575.0</td>\n    </tr>\n    <tr>\n      <th>U3Y 6P9</th>\n      <td>3904.0</td>\n    </tr>\n    <tr>\n      <th>V3M 3Y9</th>\n      <td>10426.0</td>\n    </tr>\n    <tr>\n      <th>W2F 2O6</th>\n      <td>8411.0</td>\n    </tr>\n    <tr>\n      <th>Y8N 8K8</th>\n      <td>7822.0</td>\n    </tr>\n  </tbody>\n</table>\n</div>"
     },
     "execution_count": 67,
     "metadata": {},
     "output_type": "execute_result"
    }
   ],
   "source": [
    "placa.groupby('placa').sum('importe')"
   ],
   "metadata": {
    "collapsed": false,
    "pycharm": {
     "name": "#%%\n"
    }
   }
  }
 ],
 "metadata": {
  "kernelspec": {
   "display_name": "Python 3",
   "language": "python",
   "name": "python3"
  },
  "language_info": {
   "codemirror_mode": {
    "name": "ipython",
    "version": 2
   },
   "file_extension": ".py",
   "mimetype": "text/x-python",
   "name": "python",
   "nbconvert_exporter": "python",
   "pygments_lexer": "ipython2",
   "version": "2.7.6"
  }
 },
 "nbformat": 4,
 "nbformat_minor": 0
}