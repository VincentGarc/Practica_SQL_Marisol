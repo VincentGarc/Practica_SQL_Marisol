{
 "cells": [
  {
   "cell_type": "code",
   "execution_count": 13,
   "outputs": [],
   "source": [
    "import pandas as pd\n",
    "import numpy as np\n",
    "import sqlalchemy as sa\n",
    "import matplotlib.pyplot as plt\n",
    "import sqlite3 as sql\n",
    "conn = sql.connect('archivos/incidencias.db')"
   ],
   "metadata": {
    "collapsed": false,
    "pycharm": {
     "name": "#%%\n"
    }
   }
  },
  {
   "cell_type": "code",
   "execution_count": 14,
   "outputs": [],
   "source": [
    "# Creacion de tabla sin registros\n",
    "\n",
    "connection = sql.connect('archivos/incidencias.db')\n",
    "cursor = connection.cursor()\n",
    "cursor.execute('''\n",
    "    CREATE TABLE registros (fechaOc datetime,servicio text,nombreCliente text,titular text,noPoliza text,cabina text,origen text,\n",
    "    importe float,telefono text,placa text)''')\n",
    "connection.commit()\n",
    "connection.close()"
   ],
   "metadata": {
    "collapsed": false,
    "pycharm": {
     "name": "#%%\n"
    }
   }
  },
  {
   "cell_type": "code",
   "execution_count": 19,
   "outputs": [],
   "source": [
    "import pandas as pd\n",
    "import sqlite3 as sql\n",
    "\n",
    "conn = sql.connect('archivos/incidencias.db')\n",
    "cursor = conn.cursor()\n",
    "\n",
    "df= pd.read_excel('archivos/registros.xlsx')\n",
    "df.to_sql('registros', conn, if_exists='append', index=False)\n",
    "conn.commit()\n",
    "conn.close()"
   ],
   "metadata": {
    "collapsed": false,
    "pycharm": {
     "name": "#%%\n"
    }
   }
  },
  {
   "cell_type": "code",
   "execution_count": 12,
   "outputs": [],
   "source": [
    "connection = sql.connect('archivos/incidencias.db')\n",
    "cursor = connection.cursor()\n",
    "cursor.execute('''drop table registros''')\n",
    "connection.commit()\n",
    "connection.close()"
   ],
   "metadata": {
    "collapsed": false,
    "pycharm": {
     "name": "#%%\n"
    }
   }
  }
 ],
 "metadata": {
  "kernelspec": {
   "display_name": "Python 3",
   "language": "python",
   "name": "python3"
  },
  "language_info": {
   "codemirror_mode": {
    "name": "ipython",
    "version": 2
   },
   "file_extension": ".py",
   "mimetype": "text/x-python",
   "name": "python",
   "nbconvert_exporter": "python",
   "pygments_lexer": "ipython2",
   "version": "2.7.6"
  }
 },
 "nbformat": 4,
 "nbformat_minor": 0
}